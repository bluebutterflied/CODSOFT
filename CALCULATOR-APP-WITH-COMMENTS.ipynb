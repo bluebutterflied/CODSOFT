{
 "cells": [
  {
   "cell_type": "markdown",
   "id": "67b17c13",
   "metadata": {},
   "source": [
    "# CODSOFT INTERNSHIP\n",
    "# TASK -2 \n",
    "# CALCULATOR-APP\n",
    "# Github: https://github.com/bluebutterflied/CODSOFT/blob/master/CALCULATOR-APP.ipynb\n"
   ]
  },
  {
   "cell_type": "markdown",
   "id": "4d46101a",
   "metadata": {},
   "source": [
    "# Importing Libraries"
   ]
  },
  {
   "cell_type": "code",
   "execution_count": 2,
   "id": "ee4c3462",
   "metadata": {},
   "outputs": [],
   "source": [
    "import tkinter as tk # TINKER Library is used to create Basic GUI for an Application"
   ]
  },
  {
   "cell_type": "markdown",
   "id": "2f56a2da",
   "metadata": {},
   "source": [
    "# Class Defining The Body Of Calculator App With Different Member Functions"
   ]
  },
  {
   "cell_type": "code",
   "execution_count": 3,
   "id": "158449db",
   "metadata": {},
   "outputs": [],
   "source": [
    "class CalculatorApp: # Again just like the to-do list, main class of the Calculator App\n",
    "    def __init__(self, root): # User-Defined Constructor with all the Data-Members\n",
    "        self.root = root\n",
    "        self.root.title(\"Simple Calculator\")\n",
    "        self.num1_entry = tk.Entry(root)\n",
    "        self.num1_entry.pack(pady=10)\n",
    "        self.num2_entry = tk.Entry(root)\n",
    "        self.num2_entry.pack(pady=10)\n",
    "        self.operation_var = tk.StringVar(root)\n",
    "        self.operation_var.set(\"+\")\n",
    "        self.operation_menu = tk.OptionMenu(root, self.operation_var, \"+\", \"-\", \"*\", \"/\")\n",
    "        self.operation_menu.pack()\n",
    "        self.result_label = tk.Label(root, text=\"Result: \")\n",
    "        self.result_label.pack()\n",
    "        self.calculate_button = tk.Button(root, text=\"Calculate\", command=self.calculate)\n",
    "        self.calculate_button.pack()\n",
    "    def calculate(self): # Member Function or You can simply say Function of the Class\n",
    "        num1 = float(self.num1_entry.get()) # We are getting values using get() function\n",
    "        num2 = float(self.num2_entry.get()) # Secondly we are taking values in FLOATS. i.e For new people, float is a DataType\n",
    "        operation = self.operation_var.get() # Getting the Operation that u wanna perform in calculator\n",
    "        if operation == \"+\": # For addition\n",
    "            result = num1 + num2\n",
    "        elif operation == \"-\": # For Subtraction\n",
    "            result = num1 - num2\n",
    "        elif operation == \"*\": # For Multiplication...... * indicates the Multiplication sign in Python\n",
    "            result = num1 * num2\n",
    "        elif operation == \"/\": # For Division...... / indicates the Division in python.\n",
    "            if num2 != 0:\n",
    "                result = num1 / num2 # As we all know if we divide anything with 0 we get undefine error. This check is for that to avoid the error\n",
    "            else:\n",
    "                result = \"Cannot divide by zero\" # If the Divider is zero, we will simply get this message rather than the application crash\n",
    "        else:\n",
    "            result = \"Invalid operation\" # If we put anyother operater then we'll get this message E.G $\n",
    "        self.result_label.config(text=f\"Result: {result}\")"
   ]
  },
  {
   "cell_type": "markdown",
   "id": "fb8d378d",
   "metadata": {},
   "source": [
    "# Main Function For Creating The Object Of Our User Defined Calculator Class"
   ]
  },
  {
   "cell_type": "code",
   "execution_count": 4,
   "id": "27055596",
   "metadata": {},
   "outputs": [],
   "source": [
    "def main(): # Main Body of our Program\n",
    "    root = tk.Tk()\n",
    "    app = CalculatorApp(root)\n",
    "    root.mainloop()\n",
    "\n",
    "if __name__ == \"__main__\":\n",
    "    main()"
   ]
  }
 ],
 "metadata": {
  "kernelspec": {
   "display_name": "Python 3 (ipykernel)",
   "language": "python",
   "name": "python3"
  },
  "language_info": {
   "codemirror_mode": {
    "name": "ipython",
    "version": 3
   },
   "file_extension": ".py",
   "mimetype": "text/x-python",
   "name": "python",
   "nbconvert_exporter": "python",
   "pygments_lexer": "ipython3",
   "version": "3.11.4"
  }
 },
 "nbformat": 4,
 "nbformat_minor": 5
}
