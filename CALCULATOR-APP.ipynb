{
 "cells": [
  {
   "cell_type": "markdown",
   "id": "67b17c13",
   "metadata": {},
   "source": [
    "# CODSOFT INTERNSHIP\n",
    "# TASK -2 \n",
    "# CALCULATOR-APP\n"
   ]
  },
  {
   "cell_type": "markdown",
   "id": "4d46101a",
   "metadata": {},
   "source": [
    "# Importing Libraries"
   ]
  },
  {
   "cell_type": "code",
   "execution_count": 14,
   "id": "ee4c3462",
   "metadata": {},
   "outputs": [],
   "source": [
    "import tkinter as tk"
   ]
  },
  {
   "cell_type": "markdown",
   "id": "2f56a2da",
   "metadata": {},
   "source": [
    "# Class Defining The Body Of Calculator App With Different Member Functions"
   ]
  },
  {
   "cell_type": "code",
   "execution_count": 15,
   "id": "158449db",
   "metadata": {},
   "outputs": [],
   "source": [
    "class CalculatorApp:\n",
    "    def __init__(self, root):\n",
    "        self.root = root\n",
    "        self.root.title(\"Simple Calculator\")\n",
    "        self.num1_entry = tk.Entry(root)\n",
    "        self.num1_entry.pack(pady=10)\n",
    "        self.num2_entry = tk.Entry(root)\n",
    "        self.num2_entry.pack(pady=10)\n",
    "        self.operation_var = tk.StringVar(root)\n",
    "        self.operation_var.set(\"+\")\n",
    "        self.operation_menu = tk.OptionMenu(root, self.operation_var, \"+\", \"-\", \"*\", \"/\")\n",
    "        self.operation_menu.pack()\n",
    "        self.result_label = tk.Label(root, text=\"Result: \")\n",
    "        self.result_label.pack()\n",
    "        self.calculate_button = tk.Button(root, text=\"Calculate\", command=self.calculate)\n",
    "        self.calculate_button.pack()\n",
    "    def calculate(self):\n",
    "        num1 = float(self.num1_entry.get())\n",
    "        num2 = float(self.num2_entry.get())\n",
    "        operation = self.operation_var.get()\n",
    "        if operation == \"+\":\n",
    "            result = num1 + num2\n",
    "        elif operation == \"-\":\n",
    "            result = num1 - num2\n",
    "        elif operation == \"*\":\n",
    "            result = num1 * num2\n",
    "        elif operation == \"/\":\n",
    "            if num2 != 0:\n",
    "                result = num1 / num2\n",
    "            else:\n",
    "                result = \"Cannot divide by zero\"\n",
    "        else:\n",
    "            result = \"Invalid operation\"\n",
    "        self.result_label.config(text=f\"Result: {result}\")"
   ]
  },
  {
   "cell_type": "markdown",
   "id": "fb8d378d",
   "metadata": {},
   "source": [
    "# Main Function For Creating The Object Of Our User Defined Calculator Class"
   ]
  },
  {
   "cell_type": "code",
   "execution_count": 16,
   "id": "27055596",
   "metadata": {},
   "outputs": [],
   "source": [
    "def main():\n",
    "    root = tk.Tk()\n",
    "    app = CalculatorApp(root)\n",
    "    root.mainloop()\n",
    "\n",
    "if __name__ == \"__main__\":\n",
    "    main()"
   ]
  },
  {
   "cell_type": "code",
   "execution_count": null,
   "id": "5d9ec07d",
   "metadata": {},
   "outputs": [],
   "source": []
  }
 ],
 "metadata": {
  "kernelspec": {
   "display_name": "Python 3 (ipykernel)",
   "language": "python",
   "name": "python3"
  },
  "language_info": {
   "codemirror_mode": {
    "name": "ipython",
    "version": 3
   },
   "file_extension": ".py",
   "mimetype": "text/x-python",
   "name": "python",
   "nbconvert_exporter": "python",
   "pygments_lexer": "ipython3",
   "version": "3.11.4"
  }
 },
 "nbformat": 4,
 "nbformat_minor": 5
}
