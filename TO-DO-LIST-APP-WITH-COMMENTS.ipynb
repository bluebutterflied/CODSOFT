{
 "cells": [
  {
   "cell_type": "markdown",
   "id": "e2b9e852",
   "metadata": {},
   "source": [
    "# CODSOFT INTERNSHIP\n",
    "# TASK -1 \n",
    "# TO-DO-LIST-APP\n",
    "# Github: https://github.com/bluebutterflied/CODSOFT/blob/master/TO-DO-LIST-APP.ipynb"
   ]
  },
  {
   "cell_type": "markdown",
   "id": "374afa91",
   "metadata": {},
   "source": [
    "# Importing Libraries"
   ]
  },
  {
   "cell_type": "code",
   "execution_count": 1,
   "id": "1bcd14c7",
   "metadata": {},
   "outputs": [],
   "source": [
    "import tkinter as tk # Importing tkinter library, it is used to create a basic GUI of any application\n",
    "from tkinter import messagebox # We are using messagebox from this library"
   ]
  },
  {
   "cell_type": "markdown",
   "id": "2e6a6d39",
   "metadata": {},
   "source": [
    "# Defining Class And Creating Member Functions"
   ]
  },
  {
   "cell_type": "code",
   "execution_count": 2,
   "id": "588363b9",
   "metadata": {},
   "outputs": [],
   "source": [
    "class ToDoApp: # Main Class of our To-Do Application with the User-defined Constructor, Data Members and Data Functions\n",
    "    def __init__(self, root): # User-Defined Constructor\n",
    "        self.root = root                            # All the Data Members of the class and Initializing them in Constructor\n",
    "        self.root.title(\"To-Do List\")\n",
    "        self.tasks = []\n",
    "        self.task_entry = tk.Entry(root)\n",
    "        self.task_entry.pack(pady=10)\n",
    "        self.add_button = tk.Button(root, text=\"Add Task\", command=self.add_task)\n",
    "        self.add_button.pack()\n",
    "        self.task_listbox = tk.Listbox(root, selectmode=tk.SINGLE)\n",
    "        self.task_listbox.pack()\n",
    "        self.remove_button = tk.Button(root, text=\"Remove Task\", command=self.remove_task)\n",
    "        self.remove_button.pack()\n",
    "    def add_task(self): # Member Function or u can say Function to add Tasks in the list\n",
    "        task = self.task_entry.get() # Getting the value using the .get() function\n",
    "        if task: # Check for the True/False. If not empty then it'll append in the list of tasks\n",
    "            self.tasks.append(task)\n",
    "            self.update_task_listbox()\n",
    "            self.task_entry.delete(0, tk.END)\n",
    "    def remove_task(self): # Second Member Function To remove any Task from the list\n",
    "        selected_task = self.task_listbox.get(tk.ACTIVE) # Again using .get to get the value and storing it in local variable selected_task\n",
    "        if selected_task: # Checking for the value of true\n",
    "            self.tasks.remove(selected_task)\n",
    "            self.update_task_listbox()\n",
    "    def update_task_listbox(self):  # 3rd Member Function To update any Task in the list.\n",
    "        self.task_listbox.delete(0, tk.END)\n",
    "        for task in self.tasks:\n",
    "            self.task_listbox.insert(tk.END, task)"
   ]
  },
  {
   "cell_type": "markdown",
   "id": "4dc2f88f",
   "metadata": {},
   "source": [
    "# Main Function For Creating The Object Our User Defined To-List-App Class"
   ]
  },
  {
   "cell_type": "code",
   "execution_count": 3,
   "id": "08cdc4ac",
   "metadata": {},
   "outputs": [],
   "source": [
    "def main(): # Body of Main, from where we are calling our application\n",
    "    root = tk.Tk()\n",
    "    app = ToDoApp(root)\n",
    "    root.mainloop()\n",
    "if __name__ == \"__main__\":\n",
    "    main()"
   ]
  },
  {
   "cell_type": "code",
   "execution_count": null,
   "id": "1ffcdb2b",
   "metadata": {},
   "outputs": [],
   "source": [
    "# You can see we've appened alot of tasks in the list. Now one by one i'm going to remove them."
   ]
  }
 ],
 "metadata": {
  "kernelspec": {
   "display_name": "Python 3 (ipykernel)",
   "language": "python",
   "name": "python3"
  },
  "language_info": {
   "codemirror_mode": {
    "name": "ipython",
    "version": 3
   },
   "file_extension": ".py",
   "mimetype": "text/x-python",
   "name": "python",
   "nbconvert_exporter": "python",
   "pygments_lexer": "ipython3",
   "version": "3.11.4"
  }
 },
 "nbformat": 4,
 "nbformat_minor": 5
}
