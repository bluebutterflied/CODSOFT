{
 "cells": [
  {
   "cell_type": "markdown",
   "id": "3640ac41",
   "metadata": {},
   "source": [
    "# CODSOFT INTERNSHIP\n",
    "# TASK -3 \n",
    "# PASSWORD-GENERATOR-APP\n",
    "# Github: https://github.com/bluebutterflied/CODSOFT/blob/master/PASSWORD-GENERATOR-APP.ipynb"
   ]
  },
  {
   "cell_type": "markdown",
   "id": "6808e35a",
   "metadata": {},
   "source": [
    "# Importing Libraries"
   ]
  },
  {
   "cell_type": "code",
   "execution_count": 1,
   "id": "7b484d2a",
   "metadata": {},
   "outputs": [],
   "source": [
    "import random # Used to generate Random values\n",
    "import string # Strings Library \n",
    "import tkinter as tk # Again Library for the Basic GUI\n",
    "from tkinter import messagebox"
   ]
  },
  {
   "cell_type": "markdown",
   "id": "871cf668",
   "metadata": {},
   "source": [
    "# Class Defining The Body Of Our Password Generator App With Different Member Functions"
   ]
  },
  {
   "cell_type": "code",
   "execution_count": 2,
   "id": "9f6c4854",
   "metadata": {},
   "outputs": [],
   "source": [
    "class PasswordGeneratorApp: # Main Class of our Program\n",
    "    def __init__(self, root): # User Defined Constructor with all the Data Members. i.e we are getting/parameters and assigning them to Data Members of the class\n",
    "        self.root = root\n",
    "        self.root.title(\"Password Generator\")\n",
    "        self.length_label = tk.Label(root, text=\"Enter password length:\")\n",
    "        self.length_label.pack(pady=10)\n",
    "        self.length_entry = tk.Entry(root)\n",
    "        self.length_entry.pack(pady=5)\n",
    "        self.generate_button = tk.Button(root, text=\"Generate Password\", command=self.generate_password)\n",
    "        self.generate_button.pack()\n",
    "        self.password_label = tk.Label(root, text=\"Generated Password:\")\n",
    "        self.password_label.pack()\n",
    "    def generate_password(self): # Member Function of our Class \n",
    "        try: # We are doing Exceptional Handling by using try and except. Exceptional handling is used to avoid Crashes in Application. For errors, rather than crash exceptional handling throw an error message to the user.\n",
    "            password_length = int(self.length_entry.get()) # Local Variable getting the length, e.g of what length should be the password\n",
    "            if password_length <= 0: # if password Length less than zero then it's an error so rather tahn error we are throwing an exception msg here \n",
    "                messagebox.showerror(\"Error\", \"Password length must be a positive integer.\") # This will be the message \n",
    "                return # Return will take the Function back from where it was called \n",
    "            characters = string.ascii_letters + string.digits + string.punctuation\n",
    "            generated_password = ''.join(random.choice(characters) for _ in range(password_length)) # Here we are generating the password within the length provided by using a For Loop\n",
    "            self.password_label.config(text=f\"Generated Password: {generated_password}\")  # Storing the password in password_label.config variable which is a dictionary itself. So storing the key CONFIG of this dictionary \n",
    "        except ValueError:\n",
    "            messagebox.showerror(\"Error\", \"Invalid input. Please enter a valid integer.\") # Throwing Exception if the input is invalid"
   ]
  },
  {
   "cell_type": "markdown",
   "id": "e2adb054",
   "metadata": {},
   "source": [
    "# Main Function Containing The Object Of The Password Generator Class"
   ]
  },
  {
   "cell_type": "code",
   "execution_count": 3,
   "id": "e126382a",
   "metadata": {},
   "outputs": [],
   "source": [
    "def main(): # Main Body from where we are creating the object of the Class calling it.\n",
    "    root = tk.Tk()\n",
    "    app = PasswordGeneratorApp(root)\n",
    "    root.mainloop()\n",
    "if __name__ == \"__main__\":\n",
    "    main()"
   ]
  },
  {
   "cell_type": "markdown",
   "id": "d0c99411",
   "metadata": {},
   "source": [
    "# This Was The Demo Of All The Three Tasks With The Explaination.\n",
    "# Thanks For Your Time"
   ]
  },
  {
   "cell_type": "code",
   "execution_count": null,
   "id": "a7d9e734",
   "metadata": {},
   "outputs": [],
   "source": []
  }
 ],
 "metadata": {
  "kernelspec": {
   "display_name": "Python 3 (ipykernel)",
   "language": "python",
   "name": "python3"
  },
  "language_info": {
   "codemirror_mode": {
    "name": "ipython",
    "version": 3
   },
   "file_extension": ".py",
   "mimetype": "text/x-python",
   "name": "python",
   "nbconvert_exporter": "python",
   "pygments_lexer": "ipython3",
   "version": "3.11.4"
  }
 },
 "nbformat": 4,
 "nbformat_minor": 5
}
