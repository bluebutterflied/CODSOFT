{
 "cells": [
  {
   "cell_type": "markdown",
   "id": "3640ac41",
   "metadata": {},
   "source": [
    "# CODSOFT INTERNSHIP\n",
    "# TASK -3 \n",
    "# PASSWORD-GENERATOR-APP"
   ]
  },
  {
   "cell_type": "markdown",
   "id": "6808e35a",
   "metadata": {},
   "source": [
    "# Importing Libraries"
   ]
  },
  {
   "cell_type": "code",
   "execution_count": 2,
   "id": "7b484d2a",
   "metadata": {},
   "outputs": [],
   "source": [
    "import random\n",
    "import string\n",
    "import tkinter as tk\n",
    "from tkinter import messagebox"
   ]
  },
  {
   "cell_type": "markdown",
   "id": "871cf668",
   "metadata": {},
   "source": [
    "# Class Defining The Body Of Our Password Generator App With Different Member Functions"
   ]
  },
  {
   "cell_type": "code",
   "execution_count": 1,
   "id": "9f6c4854",
   "metadata": {},
   "outputs": [],
   "source": [
    "class PasswordGeneratorApp:\n",
    "    def __init__(self, root):\n",
    "        self.root = root\n",
    "        self.root.title(\"Password Generator\")\n",
    "        self.length_label = tk.Label(root, text=\"Enter password length:\")\n",
    "        self.length_label.pack(pady=10)\n",
    "        self.length_entry = tk.Entry(root)\n",
    "        self.length_entry.pack(pady=5)\n",
    "        self.generate_button = tk.Button(root, text=\"Generate Password\", command=self.generate_password)\n",
    "        self.generate_button.pack()\n",
    "        self.password_label = tk.Label(root, text=\"Generated Password:\")\n",
    "        self.password_label.pack()\n",
    "    def generate_password(self):\n",
    "        try:\n",
    "            password_length = int(self.length_entry.get())\n",
    "            if password_length <= 0:\n",
    "                messagebox.showerror(\"Error\", \"Password length must be a positive integer.\")\n",
    "                return\n",
    "            characters = string.ascii_letters + string.digits + string.punctuation\n",
    "            generated_password = ''.join(random.choice(characters) for _ in range(password_length))\n",
    "            self.password_label.config(text=f\"Generated Password: {generated_password}\")\n",
    "        except ValueError:\n",
    "            messagebox.showerror(\"Error\", \"Invalid input. Please enter a valid integer.\")"
   ]
  },
  {
   "cell_type": "markdown",
   "id": "e2adb054",
   "metadata": {},
   "source": [
    "# Main Function Containing The Object Of The Password Generator Class"
   ]
  },
  {
   "cell_type": "code",
   "execution_count": 3,
   "id": "e126382a",
   "metadata": {},
   "outputs": [],
   "source": [
    "def main():\n",
    "    root = tk.Tk()\n",
    "    app = PasswordGeneratorApp(root)\n",
    "    root.mainloop()\n",
    "if __name__ == \"__main__\":\n",
    "    main()"
   ]
  }
 ],
 "metadata": {
  "kernelspec": {
   "display_name": "Python 3 (ipykernel)",
   "language": "python",
   "name": "python3"
  },
  "language_info": {
   "codemirror_mode": {
    "name": "ipython",
    "version": 3
   },
   "file_extension": ".py",
   "mimetype": "text/x-python",
   "name": "python",
   "nbconvert_exporter": "python",
   "pygments_lexer": "ipython3",
   "version": "3.11.4"
  }
 },
 "nbformat": 4,
 "nbformat_minor": 5
}
