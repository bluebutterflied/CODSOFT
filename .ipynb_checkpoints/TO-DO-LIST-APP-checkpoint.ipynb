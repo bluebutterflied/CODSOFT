{
 "cells": [
  {
   "cell_type": "markdown",
   "id": "e2b9e852",
   "metadata": {},
   "source": [
    "# CODSOFT INTERNSHIP\n",
    "# TASK -1 \n",
    "# TO-DO-LIST-APP\n"
   ]
  },
  {
   "cell_type": "markdown",
   "id": "374afa91",
   "metadata": {},
   "source": [
    "# Importing Libraries"
   ]
  },
  {
   "cell_type": "code",
   "execution_count": null,
   "id": "1bcd14c7",
   "metadata": {},
   "outputs": [],
   "source": [
    "import tkinter as tk\n",
    "from tkinter import messagebox"
   ]
  },
  {
   "cell_type": "markdown",
   "id": "2e6a6d39",
   "metadata": {},
   "source": [
    "# Defining Class And Creating Member Functions"
   ]
  },
  {
   "cell_type": "code",
   "execution_count": 65,
   "id": "588363b9",
   "metadata": {},
   "outputs": [],
   "source": [
    "class ToDoApp:\n",
    "    def __init__(self, root):\n",
    "        self.root = root\n",
    "        self.root.title(\"To-Do List\")\n",
    "        self.tasks = []\n",
    "        self.task_entry = tk.Entry(root)\n",
    "        self.task_entry.pack(pady=10)\n",
    "        self.add_button = tk.Button(root, text=\"Add Task\", command=self.add_task)\n",
    "        self.add_button.pack()\n",
    "        self.task_listbox = tk.Listbox(root, selectmode=tk.SINGLE)\n",
    "        self.task_listbox.pack()\n",
    "        self.remove_button = tk.Button(root, text=\"Remove Task\", command=self.remove_task)\n",
    "        self.remove_button.pack()\n",
    "    def add_task(self):\n",
    "        task = self.task_entry.get()\n",
    "        if task:\n",
    "            self.tasks.append(task)\n",
    "            self.update_task_listbox()\n",
    "            self.task_entry.delete(0, tk.END)\n",
    "    def remove_task(self):\n",
    "        selected_task = self.task_listbox.get(tk.ACTIVE)\n",
    "        if selected_task:\n",
    "            self.tasks.remove(selected_task)\n",
    "            self.update_task_listbox()\n",
    "    def update_task_listbox(self):\n",
    "        self.task_listbox.delete(0, tk.END)\n",
    "        for task in self.tasks:\n",
    "            self.task_listbox.insert(tk.END, task)"
   ]
  },
  {
   "cell_type": "markdown",
   "id": "4dc2f88f",
   "metadata": {},
   "source": [
    "# Main Function For Creating The Object Our User Defined To-List-App Class"
   ]
  },
  {
   "cell_type": "code",
   "execution_count": 66,
   "id": "08cdc4ac",
   "metadata": {},
   "outputs": [],
   "source": [
    "def main():\n",
    "    root = tk.Tk()\n",
    "    app = ToDoApp(root)\n",
    "    root.mainloop()\n",
    "if __name__ == \"__main__\":\n",
    "    main()"
   ]
  }
 ],
 "metadata": {
  "kernelspec": {
   "display_name": "Python 3 (ipykernel)",
   "language": "python",
   "name": "python3"
  },
  "language_info": {
   "codemirror_mode": {
    "name": "ipython",
    "version": 3
   },
   "file_extension": ".py",
   "mimetype": "text/x-python",
   "name": "python",
   "nbconvert_exporter": "python",
   "pygments_lexer": "ipython3",
   "version": "3.11.4"
  }
 },
 "nbformat": 4,
 "nbformat_minor": 5
}
